{
  "nbformat": 4,
  "nbformat_minor": 0,
  "metadata": {
    "colab": {
      "provenance": []
    },
    "kernelspec": {
      "name": "python3",
      "display_name": "Python 3"
    },
    "language_info": {
      "name": "python"
    }
  },
  "cells": [
    {
      "cell_type": "markdown",
      "source": [
        "# Individual Assignment: Advanced Clustering & Density Methods\n",
        "\n",
        "\n",
        "## 1. Dataset Selection & Exploration  \n",
        "You will load **four real-world** datasets with different structure and cluster assumptions:  \n",
        "1. **Iris** (compact Gaussian-like clusters)  \n",
        "2. **Wine** (skewed feature distributions)  \n",
        "3. **Breast Cancer** (non-spherical, varying density)  \n",
        "4. **Digits** (high-dimensional, non-convex clusters)  \n",
        "\n",
        "For each dataset, in a markdown cell describe its source, number of samples and features, any class labels available (for evaluation only), and whether you apply scaling or normalization. Visualize each with a 2D PCA or t-SNE scatterplot to reveal cluster shapes.\n",
        "\n",
        "---\n",
        "\n",
        "## 2. Algorithm Implementations & Baselines  \n",
        "### 2.1 K-Means Variants  \n",
        "- **Classic (random init)**  \n",
        "- **K-Means++**  \n",
        "- **Bisecting K-Means** (iteratively split largest cluster)  \n",
        "\n",
        "Implement the algorithm to returns centroids, labels, inertia, iterations, runtime.\n",
        "\n",
        "### 2.2 Density & Hierarchical Methods  \n",
        "- **DBSCAN** (tune `eps` and `min_samples`)  \n",
        "- **Agglomerative Clustering** (Ward’s linkage and complete linkage)  \n",
        "\n",
        "Use scikit-learn implementations; record labels, runtime, and core sample counts (for DBSCAN).\n",
        "\n",
        "---\n",
        "\n",
        "## 3. Evaluation & Visualization  \n",
        "For each dataset and each algorithm:  \n",
        "1. Compute **inertia** (where defined), **silhouette score**, and if true labels exist, **adjusted rand index (ARI)**.  \n",
        "2. Tabulate results in a DataFrame and display it.  \n",
        "3. For a representative `k` (e.g. 3 for Iris and Wine, 2 for Breast Cancer, 10 for Digits), produce side-by-side 2D scatterplots (PCA or t-SNE) colored by cluster labels for:  \n",
        "   - Random-init K-Means  \n",
        "   - K-Means++  \n",
        "   - Bisecting K-Means  \n",
        "   - DBSCAN  \n",
        "   - Agglomerative (Ward)  \n",
        "\n",
        "---\n",
        "\n",
        "## 4. Algorithmic Comparison & Failure Modes  \n",
        "In markdown, for each dataset discuss:  \n",
        "- Which algorithms found the “true” clusters most accurately (highest ARI) and why.  \n",
        "- How cluster shape or density affected K-Means (e.g. non-convex Digits clusters).  \n",
        "- Why DBSCAN succeeded or failed on each dataset (e.g. sensitivity to `eps`).  \n",
        "- How hierarchical linkage choices change results for skewed data (Wine).\n",
        "\n",
        "---\n",
        "\n",
        "## 5. Hyperparameter Sensitivity  \n",
        "Choose the **two** below algorithms and **one** dataset with a challenging structure (Breast Cancer or Digits) perform a hyperparameter sweep:  \n",
        "- For K-Means: vary `k` from 2 to 8 and plot inertia and silhouette vs. `k`.  \n",
        "- For DBSCAN: vary `eps` and `min_samples` and heatmap silhouette scores.  \n",
        "\n",
        "Show code that logs and visualizes these sensitivities.\n",
        "\n",
        "---\n",
        "\n",
        "## 6. Reflection & Insights  \n",
        "At the end of each major section (Exploration, K-Means, DBSCAN/Agglomerative, Hyperparameter), answer in 2–3 sentences:  \n",
        "- “What was the hardest implementation or tuning challenge I faced here, and how did I overcome it?”  \n",
        "- “What insight about cluster structure or algorithm behavior did I gain that no black-box call could teach me?”\n",
        "\n",
        "---\n",
        "\n",
        "## 7. Submission  \n",
        "Push a single Colab or Jupyter notebook named `clustering_assignment_firstname_lastname.ipynb` to GitHub, ensuring all data-loading cells run without error and that your code, plots, tables, and markdown narrative are clear. In a final markdown cell, summarize your **top three takeaways** in bullet form.  \n"
      ],
      "metadata": {
        "id": "qJZM7ieOG_DV"
      }
    },
    {
      "cell_type": "code",
      "execution_count": null,
      "metadata": {
        "id": "YVsb_BvVG-Zb"
      },
      "outputs": [],
      "source": []
    }
  ]
}